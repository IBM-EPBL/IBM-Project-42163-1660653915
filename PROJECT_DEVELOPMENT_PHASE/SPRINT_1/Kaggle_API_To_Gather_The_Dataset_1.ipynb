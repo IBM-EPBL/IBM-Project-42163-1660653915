{
  "nbformat": 4,
  "nbformat_minor": 0,
  "metadata": {
    "colab": {
      "provenance": [],
      "collapsed_sections": []
    },
    "kernelspec": {
      "name": "python3",
      "display_name": "Python 3"
    },
    "language_info": {
      "name": "python"
    }
  },
  "cells": [
    {
      "cell_type": "markdown",
      "source": [
        "**TEAM ID:PNT2022TMID54247**"
      ],
      "metadata": {
        "id": "2kvJQ_26SrQL"
      }
    },
    {
      "cell_type": "markdown",
      "source": [
        "**TEAM MEMBERS: Jagadeesh R(TL), Karthik K(TM-1), Hariharan C(TM-2), Deepak Raj S(TM-3).**\n"
      ],
      "metadata": {
        "id": "DXnEoqkaS0_e"
      }
    },
    {
      "cell_type": "code",
      "execution_count": 1,
      "metadata": {
        "id": "Z17jJJgHSqTF"
      },
      "outputs": [],
      "source": [
        "!pip install -q kaggle"
      ]
    },
    {
      "cell_type": "code",
      "source": [
        "!mkdir ~/.kaggle"
      ],
      "metadata": {
        "id": "tVnjY2qNVMFJ"
      },
      "execution_count": 2,
      "outputs": []
    },
    {
      "cell_type": "code",
      "source": [
        "!cp kaggle.json ~/.kaggle/"
      ],
      "metadata": {
        "id": "ubdHs6PUVMqs"
      },
      "execution_count": 3,
      "outputs": []
    },
    {
      "cell_type": "code",
      "source": [
        "!chmod 600 ~/.kaggle/kaggle.json"
      ],
      "metadata": {
        "id": "3yI-7FxZVcNa"
      },
      "execution_count": 4,
      "outputs": []
    },
    {
      "cell_type": "code",
      "source": [
        "!kaggle datasets download -d dinocojagadeeshr/healthcaredata"
      ],
      "metadata": {
        "colab": {
          "base_uri": "https://localhost:8080/"
        },
        "id": "yjQoNl3-Vdkl",
        "outputId": "5b09b754-2639-42c5-ff26-9b4a6144ce5d"
      },
      "execution_count": 5,
      "outputs": [
        {
          "output_type": "stream",
          "name": "stdout",
          "text": [
            "Downloading healthcaredata.zip to /content\n",
            "\r  0% 0.00/6.54M [00:00<?, ?B/s]\r 76% 5.00M/6.54M [00:00<00:00, 25.2MB/s]\n",
            "\r100% 6.54M/6.54M [00:00<00:00, 32.0MB/s]\n"
          ]
        }
      ]
    },
    {
      "cell_type": "code",
      "source": [
        "!unzip /content/healthcaredata"
      ],
      "metadata": {
        "colab": {
          "base_uri": "https://localhost:8080/"
        },
        "id": "QWLtoc9HVq7z",
        "outputId": "657186bb-c0d9-4f6f-d759-efca586f01b0"
      },
      "execution_count": 7,
      "outputs": [
        {
          "output_type": "stream",
          "name": "stdout",
          "text": [
            "Archive:  /content/healthcaredata.zip\n",
            "replace sample_sub.csv? [y]es, [n]o, [A]ll, [N]one, [r]ename: A\n",
            "  inflating: sample_sub.csv          \n",
            "  inflating: test_data.csv           \n",
            "  inflating: train_data.csv          \n",
            "  inflating: train_data_dictionary.csv  \n"
          ]
        }
      ]
    }
  ]
}